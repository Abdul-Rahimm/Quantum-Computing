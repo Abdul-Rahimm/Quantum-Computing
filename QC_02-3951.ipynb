{
 "cells": [
  {
   "cell_type": "markdown",
   "metadata": {},
   "source": [
    "Abdul Rahim - k21-3951"
   ]
  },
  {
   "cell_type": "markdown",
   "metadata": {},
   "source": [
    "### Task: Design a Variational Quantum Classifier (VQC) model for the specified datasets using the details provided below.\n"
   ]
  },
  {
   "cell_type": "markdown",
   "metadata": {},
   "source": [
    "Utilize the following datasets:\n",
    "- Statlog Heart : https://archive.ics.uci.edu/dataset/145/statlog+heart\n",
    "- Ionosphere : https://archive.ics.uci.edu/dataset/52/ionosphere"
   ]
  },
  {
   "cell_type": "markdown",
   "metadata": {},
   "source": [
    "Data Split:\n",
    "- Training: 70%\n",
    "- Validation: 10%\n",
    "- Testing: 20%"
   ]
  },
  {
   "cell_type": "markdown",
   "metadata": {},
   "source": [
    "Feature Maps:\n",
    "- Use ZZFeatureMap(..., reps=2)\n",
    "- Use PauliFeatureMap(..., reps=2, paulis=[\"Z\", \"YY\"], entanglement=\"full\")"
   ]
  },
  {
   "cell_type": "markdown",
   "metadata": {},
   "source": [
    "### Design a custom variational quantum circuit (ansatz) from scratch \n",
    "- for both feature map and \n",
    "- for both datasets (total 4), \n",
    "\n",
    "rather than using predefined ansatz options."
   ]
  },
  {
   "cell_type": "markdown",
   "metadata": {},
   "source": [
    "Evaluation Metrics:\n",
    "- Use Accuracy, Precision, Recall, and F1 Score to evaluate the model's performance.\n"
   ]
  },
  {
   "cell_type": "code",
   "execution_count": 9,
   "metadata": {},
   "outputs": [],
   "source": [
    "import pandas as pd\n",
    "from sklearn.model_selection import train_test_split\n",
    "from sklearn.preprocessing import StandardScaler\n",
    "from qiskit.circuit.library import ZZFeatureMap, PauliFeatureMap\n",
    "from qiskit import QuantumCircuit\n",
    "from qiskit.circuit import Parameter\n",
    "import numpy as np\n",
    "from sklearn.model_selection import train_test_split\n",
    "from sklearn.metrics import accuracy_score, precision_score, recall_score, f1_score\n",
    "from qiskit_aer import Aer\n",
    "from qiskit.primitives import Sampler \n",
    "from qiskit_algorithms.optimizers import SLSQP \n",
    "from qiskit_machine_learning.algorithms import VQC\n",
    "from qiskit_machine_learning.circuit.library import RawFeatureVector"
   ]
  },
  {
   "cell_type": "code",
   "execution_count": null,
   "metadata": {},
   "outputs": [],
   "source": [
    "statlog_url = \"https://archive.ics.uci.edu/ml/machine-learning-databases/statlog/heart/heart.dat\"\n",
    "statlog_columns = [\n",
    "    'age', 'sex', 'cp', 'trestbps', 'chol', 'fbs', 'restecg', 'thalach', 'exang', \n",
    "    'oldpeak', 'slope', 'ca', 'thal', 'target'\n",
    "]\n",
    "statlog_data = pd.read_csv(statlog_url, delim_whitespace=True, header=None, names=statlog_columns)\n",
    "\n",
    "ionosphere_url = \"https://archive.ics.uci.edu/ml/machine-learning-databases/ionosphere/ionosphere.data\"\n",
    "ionosphere_columns = [f'feature_{i}' for i in range(34)] + ['target']\n",
    "ionosphere_data = pd.read_csv(ionosphere_url, header=None, names=ionosphere_columns)"
   ]
  },
  {
   "cell_type": "code",
   "execution_count": 11,
   "metadata": {},
   "outputs": [],
   "source": [
    "# categorical labels (target) --> binary values\n",
    "statlog_data['target'] = statlog_data['target'].apply(lambda x: 1 if x == 1 else 0)\n",
    "ionosphere_data['target'] = ionosphere_data['target'].apply(lambda x: 1 if x == 'g' else 0)\n",
    "\n",
    "# separate features (X) and labels (y) for both datasets\n",
    "X_statlog = statlog_data.drop('target', axis=1)\n",
    "y_statlog = statlog_data['target']\n",
    "\n",
    "X_ionosphere = ionosphere_data.drop('target', axis=1)\n",
    "y_ionosphere = ionosphere_data['target']\n",
    "\n",
    "# standardize the features (mean=0, std=1)\n",
    "scaler = StandardScaler()\n",
    "X_statlog_scaled = scaler.fit_transform(X_statlog)\n",
    "X_ionosphere_scaled = scaler.fit_transform(X_ionosphere)"
   ]
  },
  {
   "cell_type": "code",
   "execution_count": 12,
   "metadata": {},
   "outputs": [],
   "source": [
    "def split_data(X, y):\n",
    "    X_train_val, X_test, y_train_val, y_test = train_test_split(X, y, test_size=0.2, random_state=42)\n",
    "    X_train, X_val, y_train, y_val = train_test_split(X_train_val, y_train_val, test_size=0.125, random_state=42)  # 0.125 * 80% = 10%\n",
    "    \n",
    "    return X_train, X_val, X_test, y_train, y_val, y_test"
   ]
  },
  {
   "cell_type": "code",
   "execution_count": 13,
   "metadata": {},
   "outputs": [],
   "source": [
    "X_train_statlog, X_val_statlog, X_test_statlog, y_train_statlog, y_val_statlog, y_test_statlog = split_data(X_statlog_scaled, y_statlog)\n",
    "\n",
    "X_train_ionosphere, X_val_ionosphere, X_test_ionosphere, y_train_ionosphere, y_val_ionosphere, y_test_ionosphere = split_data(X_ionosphere_scaled, y_ionosphere)\n"
   ]
  },
  {
   "cell_type": "code",
   "execution_count": null,
   "metadata": {},
   "outputs": [],
   "source": [
    "print(\"Statlog Heart Dataset:\")\n",
    "print(\"Training data shape:\", X_train_statlog.shape)\n",
    "print(\"Validation data shape:\", X_val_statlog.shape)\n",
    "print(\"Testing data shape:\", X_test_statlog.shape)\n",
    "\n",
    "print(\"\\nIonosphere Dataset:\")\n",
    "print(\"Training data shape:\", X_train_ionosphere.shape)\n",
    "print(\"Validation data shape:\", X_val_ionosphere.shape)\n",
    "print(\"Testing data shape:\", X_test_ionosphere.shape)"
   ]
  },
  {
   "cell_type": "code",
   "execution_count": 15,
   "metadata": {},
   "outputs": [],
   "source": [
    "def get_zz_feature_map(num_qubits):\n",
    "    zz_feature_map = ZZFeatureMap(feature_dimension=num_qubits, reps=2)\n",
    "    return zz_feature_map\n",
    "\n",
    "def get_pauli_feature_map(num_qubits):\n",
    "    pauli_feature_map = PauliFeatureMap(feature_dimension=num_qubits, \n",
    "                                        reps=2, \n",
    "                                        paulis=[\"Z\", \"YY\"], \n",
    "                                        entanglement='full')\n",
    "    return pauli_feature_map\n"
   ]
  },
  {
   "cell_type": "code",
   "execution_count": 16,
   "metadata": {},
   "outputs": [],
   "source": [
    "num_qubits_statlog = X_statlog_scaled.shape[1]  # Statlog Heart\n",
    "num_qubits_ionosphere = X_ionosphere_scaled.shape[1]  # Ionosphere"
   ]
  },
  {
   "cell_type": "code",
   "execution_count": null,
   "metadata": {},
   "outputs": [],
   "source": [
    "zz_map_statlog = get_zz_feature_map(num_qubits_statlog)\n",
    "pauli_map_statlog = get_pauli_feature_map(num_qubits_statlog)\n",
    "\n",
    "zz_map_ionosphere = get_zz_feature_map(num_qubits_ionosphere)\n",
    "pauli_map_ionosphere = get_pauli_feature_map(num_qubits_ionosphere)\n",
    "\n",
    "print(\"ZZFeatureMap for Statlog Heart dataset:\")\n",
    "print(zz_map_statlog)\n",
    "\n",
    "print(\"\\nPauliFeatureMap for Statlog Heart dataset:\")\n",
    "print(pauli_map_statlog)\n",
    "\n",
    "print(\"\\nZZFeatureMap for Ionosphere dataset:\")\n",
    "print(zz_map_ionosphere)\n",
    "\n",
    "print(\"\\nPauliFeatureMap for Ionosphere dataset:\")\n",
    "print(pauli_map_ionosphere)"
   ]
  },
  {
   "cell_type": "markdown",
   "metadata": {},
   "source": [
    "### Ansatz 1: Statlog Heart Dataset with ZZFeatureMap"
   ]
  },
  {
   "cell_type": "code",
   "execution_count": null,
   "metadata": {},
   "outputs": [],
   "source": [
    "def custom_ansatz_statlog_zz(num_qubits):\n",
    "    qc = QuantumCircuit(num_qubits)\n",
    "    \n",
    "    params_rx = [Parameter(f'θ_rx_{i}') for i in range(num_qubits)]\n",
    "    params_rz = [Parameter(f'θ_rz_{i}') for i in range(num_qubits)]\n",
    "    \n",
    "    for i in range(num_qubits):\n",
    "        qc.rx(params_rx[i], i)\n",
    "        qc.rz(params_rz[i], i)\n",
    "    \n",
    "    for i in range(num_qubits - 1):\n",
    "        qc.cz(i, i + 1)\n",
    "    \n",
    "    return qc\n",
    "\n",
    "num_qubits_statlog = 13  # no of features in Statlog Heart dataset\n",
    "statlog_zz_ansatz = custom_ansatz_statlog_zz(num_qubits_statlog)\n",
    "print(\"Custom Ansatz for Statlog Heart with ZZFeatureMap:\")\n",
    "print(statlog_zz_ansatz)\n"
   ]
  },
  {
   "cell_type": "markdown",
   "metadata": {},
   "source": [
    "### Ansatz 2: Statlog Heart Dataset with PauliFeatureMap"
   ]
  },
  {
   "cell_type": "code",
   "execution_count": null,
   "metadata": {},
   "outputs": [],
   "source": [
    "def custom_ansatz_statlog_pauli(num_qubits):\n",
    "    qc = QuantumCircuit(num_qubits)\n",
    "    \n",
    "    params_ry = [Parameter(f'θ_ry_{i}') for i in range(num_qubits)]\n",
    "    params_rz = [Parameter(f'θ_rz_{i}') for i in range(num_qubits)]\n",
    "    \n",
    "    for i in range(num_qubits):\n",
    "        qc.ry(params_ry[i], i)\n",
    "        qc.rz(params_rz[i], i)\n",
    "    \n",
    "    for i in range(num_qubits):\n",
    "        for j in range(i+1, num_qubits):\n",
    "            qc.cx(i, j)\n",
    "    \n",
    "    return qc\n",
    "\n",
    "statlog_pauli_ansatz = custom_ansatz_statlog_pauli(num_qubits_statlog)\n",
    "print(\"\\nCustom Ansatz for Statlog Heart with PauliFeatureMap:\")\n",
    "print(statlog_pauli_ansatz)\n"
   ]
  },
  {
   "cell_type": "markdown",
   "metadata": {},
   "source": [
    "### Ansatz 3: Ionosphere Dataset with ZZFeatureMap"
   ]
  },
  {
   "cell_type": "code",
   "execution_count": null,
   "metadata": {},
   "outputs": [],
   "source": [
    "def custom_ansatz_ionosphere_zz(num_qubits):\n",
    "    qc = QuantumCircuit(num_qubits)\n",
    "    \n",
    "    params_rx = [Parameter(f'θ_rx_{i}') for i in range(num_qubits)]\n",
    "    params_ry = [Parameter(f'θ_ry_{i}') for i in range(num_qubits)]\n",
    "    \n",
    "    for i in range(num_qubits):\n",
    "        qc.rx(params_rx[i], i)\n",
    "        qc.ry(params_ry[i], i)\n",
    "    \n",
    "    for i in range(num_qubits - 1):\n",
    "        qc.cz(i, i + 1)\n",
    "    \n",
    "    return qc\n",
    "\n",
    "num_qubits_ionosphere = 34  \n",
    "ionosphere_zz_ansatz = custom_ansatz_ionosphere_zz(num_qubits_ionosphere)\n",
    "print(\"\\nCustom Ansatz for Ionosphere with ZZFeatureMap:\")\n",
    "print(ionosphere_zz_ansatz)\n"
   ]
  },
  {
   "cell_type": "markdown",
   "metadata": {},
   "source": [
    "### Ansatz 4: Ionosphere Dataset with PauliFeatureMap"
   ]
  },
  {
   "cell_type": "code",
   "execution_count": null,
   "metadata": {},
   "outputs": [],
   "source": [
    "def custom_ansatz_ionosphere_pauli(num_qubits):\n",
    "    qc = QuantumCircuit(num_qubits)\n",
    "    \n",
    "    params_rx = [Parameter(f'θ_rx_{i}') for i in range(num_qubits)]\n",
    "    params_ry = [Parameter(f'θ_ry_{i}') for i in range(num_qubits)]\n",
    "    \n",
    "    for i in range(num_qubits):\n",
    "        qc.rx(params_rx[i], i)\n",
    "        qc.ry(params_ry[i], i)\n",
    "    \n",
    "    for i in range(num_qubits):\n",
    "        for j in range(i+1, num_qubits):\n",
    "            qc.cx(i, j)\n",
    "    \n",
    "    return qc\n",
    "\n",
    "ionosphere_pauli_ansatz = custom_ansatz_ionosphere_pauli(num_qubits_ionosphere)\n",
    "print(\"\\nCustom Ansatz for Ionosphere with PauliFeatureMap:\")\n",
    "print(ionosphere_pauli_ansatz)\n"
   ]
  },
  {
   "cell_type": "markdown",
   "metadata": {},
   "source": [
    "### Now training the VQC"
   ]
  },
  {
   "cell_type": "code",
   "execution_count": 36,
   "metadata": {},
   "outputs": [],
   "source": [
    "X_train, X_test, y_train, y_test = train_test_split(X_statlog_scaled, statlog_data['target'], test_size=0.2, random_state=42)\n",
    "X_train, X_val, y_train, y_val = train_test_split(X_train, y_train, test_size=0.125, random_state=42)"
   ]
  },
  {
   "cell_type": "code",
   "execution_count": 37,
   "metadata": {},
   "outputs": [],
   "source": [
    "backend = Aer.get_backend('aer_simulator')\n",
    "\n",
    "def create_vqc(feature_map, ansatz):\n",
    "    vqc = VQC(feature_map=feature_map, ansatz=ansatz, optimizer=SLSQP(maxiter=100), backend=backend)\n",
    "    return vqc\n",
    "\n",
    "num_features = X_train.shape[1]\n",
    "zz_map_statlog = ZZFeatureMap(feature_dimension=num_features, reps=2)\n",
    "pauli_map_statlog = PauliFeatureMap(feature_dimension=num_features, reps=2, paulis=[\"Z\", \"YY\"], entanglement=\"full\")\n",
    "\n",
    "def custom_ansatz(num_qubits):\n",
    "    circuit = QuantumCircuit(num_qubits)\n",
    "    for qubit in range(num_qubits):\n",
    "        circuit.rx(np.random.uniform(0, 2 * np.pi), qubit)  \n",
    "    circuit = circuit.compose(QuantumCircuit(num_qubits).cx(0, 1))  "
   ]
  },
  {
   "cell_type": "code",
   "execution_count": null,
   "metadata": {},
   "outputs": [],
   "source": [
    "statlog_ansatz = custom_ansatz(num_features)\n",
    "\n",
    "vqc_model = create_vqc(zz_map_statlog, statlog_ansatz)\n",
    "\n",
    "vqc_model.fit(X_train, y_train)\n",
    "\n",
    "y_pred = vqc_model.predict(X_test)\n",
    "\n",
    "accuracy = accuracy_score(y_test, y_pred)\n",
    "precision = precision_score(y_test, y_pred)\n",
    "recall = recall_score(y_test, y_pred)\n",
    "f1 = f1_score(y_test, y_pred)\n",
    "\n",
    "print(f'Accuracy: {accuracy}')\n",
    "print(f'Precision: {precision}')\n",
    "print(f'Recall: {recall}')\n",
    "print(f'F1 Score: {f1}')\n"
   ]
  },
  {
   "cell_type": "markdown",
   "metadata": {},
   "source": [
    "### Thank You\n"
   ]
  }
 ],
 "metadata": {
  "kernelspec": {
   "display_name": "cwq",
   "language": "python",
   "name": "python3"
  },
  "language_info": {
   "codemirror_mode": {
    "name": "ipython",
    "version": 3
   },
   "file_extension": ".py",
   "mimetype": "text/x-python",
   "name": "python",
   "nbconvert_exporter": "python",
   "pygments_lexer": "ipython3",
   "version": "3.12.7"
  }
 },
 "nbformat": 4,
 "nbformat_minor": 2
}
