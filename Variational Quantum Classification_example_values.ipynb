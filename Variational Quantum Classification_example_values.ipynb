{
 "cells": [
  {
   "cell_type": "markdown",
   "id": "48c619af",
   "metadata": {
    "tags": []
   },
   "source": [
    "\n",
    "# Variational Classification\n",
    "\n",
    "This is a example using qiskit to build a quantum classification"
   ]
  },
  {
   "cell_type": "code",
   "execution_count": 5,
   "id": "fcef297a",
   "metadata": {},
   "outputs": [
    {
     "name": "stdout",
     "output_type": "stream",
     "text": [
      "Requirement already satisfied: qiskit in c:\\users\\jupit\\miniconda3\\envs\\cwq\\lib\\site-packages (1.2.4)\n",
      "Requirement already satisfied: rustworkx>=0.15.0 in c:\\users\\jupit\\miniconda3\\envs\\cwq\\lib\\site-packages (from qiskit) (0.15.1)\n",
      "Requirement already satisfied: numpy<3,>=1.17 in c:\\users\\jupit\\appdata\\roaming\\python\\python312\\site-packages (from qiskit) (1.26.4)\n",
      "Requirement already satisfied: scipy>=1.5 in c:\\users\\jupit\\miniconda3\\envs\\cwq\\lib\\site-packages (from qiskit) (1.14.1)\n",
      "Requirement already satisfied: sympy>=1.3 in c:\\users\\jupit\\miniconda3\\envs\\cwq\\lib\\site-packages (from qiskit) (1.13.3)\n",
      "Requirement already satisfied: dill>=0.3 in c:\\users\\jupit\\miniconda3\\envs\\cwq\\lib\\site-packages (from qiskit) (0.3.9)\n",
      "Requirement already satisfied: python-dateutil>=2.8.0 in c:\\users\\jupit\\appdata\\roaming\\python\\python312\\site-packages (from qiskit) (2.8.2)\n",
      "Requirement already satisfied: stevedore>=3.0.0 in c:\\users\\jupit\\miniconda3\\envs\\cwq\\lib\\site-packages (from qiskit) (5.3.0)\n",
      "Requirement already satisfied: typing-extensions in c:\\users\\jupit\\miniconda3\\envs\\cwq\\lib\\site-packages (from qiskit) (4.12.2)\n",
      "Requirement already satisfied: symengine<0.14,>=0.11 in c:\\users\\jupit\\miniconda3\\envs\\cwq\\lib\\site-packages (from qiskit) (0.13.0)\n",
      "Requirement already satisfied: six>=1.5 in c:\\users\\jupit\\appdata\\roaming\\python\\python312\\site-packages (from python-dateutil>=2.8.0->qiskit) (1.16.0)\n",
      "Requirement already satisfied: pbr>=2.0.0 in c:\\users\\jupit\\miniconda3\\envs\\cwq\\lib\\site-packages (from stevedore>=3.0.0->qiskit) (6.1.0)\n",
      "Requirement already satisfied: mpmath<1.4,>=1.1.0 in c:\\users\\jupit\\miniconda3\\envs\\cwq\\lib\\site-packages (from sympy>=1.3->qiskit) (1.3.0)\n",
      "Note: you may need to restart the kernel to use updated packages.\n",
      "Requirement already satisfied: qiskit-machine-learning in c:\\users\\jupit\\miniconda3\\envs\\cwq\\lib\\site-packages (0.7.2)\n",
      "Requirement already satisfied: qiskit>=0.44 in c:\\users\\jupit\\miniconda3\\envs\\cwq\\lib\\site-packages (from qiskit-machine-learning) (1.2.4)\n",
      "Requirement already satisfied: qiskit-algorithms>=0.2.0 in c:\\users\\jupit\\miniconda3\\envs\\cwq\\lib\\site-packages (from qiskit-machine-learning) (0.3.0)\n",
      "Requirement already satisfied: scipy>=1.4 in c:\\users\\jupit\\miniconda3\\envs\\cwq\\lib\\site-packages (from qiskit-machine-learning) (1.14.1)\n",
      "Requirement already satisfied: numpy>=1.17 in c:\\users\\jupit\\appdata\\roaming\\python\\python312\\site-packages (from qiskit-machine-learning) (1.26.4)\n",
      "Requirement already satisfied: psutil>=5 in c:\\users\\jupit\\appdata\\roaming\\python\\python312\\site-packages (from qiskit-machine-learning) (5.9.8)\n",
      "Requirement already satisfied: scikit-learn>=1.2.0 in c:\\users\\jupit\\miniconda3\\envs\\cwq\\lib\\site-packages (from qiskit-machine-learning) (1.5.2)\n",
      "Requirement already satisfied: fastdtw in c:\\users\\jupit\\miniconda3\\envs\\cwq\\lib\\site-packages (from qiskit-machine-learning) (0.3.4)\n",
      "Requirement already satisfied: setuptools>=40.1.0 in c:\\users\\jupit\\miniconda3\\envs\\cwq\\lib\\site-packages (from qiskit-machine-learning) (75.1.0)\n",
      "Requirement already satisfied: dill>=0.3.4 in c:\\users\\jupit\\miniconda3\\envs\\cwq\\lib\\site-packages (from qiskit-machine-learning) (0.3.9)\n",
      "Requirement already satisfied: rustworkx>=0.15.0 in c:\\users\\jupit\\miniconda3\\envs\\cwq\\lib\\site-packages (from qiskit>=0.44->qiskit-machine-learning) (0.15.1)\n",
      "Requirement already satisfied: sympy>=1.3 in c:\\users\\jupit\\miniconda3\\envs\\cwq\\lib\\site-packages (from qiskit>=0.44->qiskit-machine-learning) (1.13.3)\n",
      "Requirement already satisfied: python-dateutil>=2.8.0 in c:\\users\\jupit\\appdata\\roaming\\python\\python312\\site-packages (from qiskit>=0.44->qiskit-machine-learning) (2.8.2)\n",
      "Requirement already satisfied: stevedore>=3.0.0 in c:\\users\\jupit\\miniconda3\\envs\\cwq\\lib\\site-packages (from qiskit>=0.44->qiskit-machine-learning) (5.3.0)\n",
      "Requirement already satisfied: typing-extensions in c:\\users\\jupit\\miniconda3\\envs\\cwq\\lib\\site-packages (from qiskit>=0.44->qiskit-machine-learning) (4.12.2)\n",
      "Requirement already satisfied: symengine<0.14,>=0.11 in c:\\users\\jupit\\miniconda3\\envs\\cwq\\lib\\site-packages (from qiskit>=0.44->qiskit-machine-learning) (0.13.0)\n",
      "Requirement already satisfied: joblib>=1.2.0 in c:\\users\\jupit\\appdata\\roaming\\python\\python312\\site-packages (from scikit-learn>=1.2.0->qiskit-machine-learning) (1.3.2)\n",
      "Requirement already satisfied: threadpoolctl>=3.1.0 in c:\\users\\jupit\\miniconda3\\envs\\cwq\\lib\\site-packages (from scikit-learn>=1.2.0->qiskit-machine-learning) (3.5.0)\n",
      "Requirement already satisfied: six>=1.5 in c:\\users\\jupit\\appdata\\roaming\\python\\python312\\site-packages (from python-dateutil>=2.8.0->qiskit>=0.44->qiskit-machine-learning) (1.16.0)\n",
      "Requirement already satisfied: pbr>=2.0.0 in c:\\users\\jupit\\miniconda3\\envs\\cwq\\lib\\site-packages (from stevedore>=3.0.0->qiskit>=0.44->qiskit-machine-learning) (6.1.0)\n",
      "Requirement already satisfied: mpmath<1.4,>=1.1.0 in c:\\users\\jupit\\miniconda3\\envs\\cwq\\lib\\site-packages (from sympy>=1.3->qiskit>=0.44->qiskit-machine-learning) (1.3.0)\n",
      "Note: you may need to restart the kernel to use updated packages.\n"
     ]
    }
   ],
   "source": [
    "%pip install qiskit\n",
    "%pip install qiskit-machine-learning"
   ]
  },
  {
   "cell_type": "code",
   "execution_count": 6,
   "id": "634b6fa4-fc62-4c7c-adcb-da14f8eae5c9",
   "metadata": {
    "scrolled": false
   },
   "outputs": [
    {
     "ename": "ImportError",
     "evalue": "cannot import name 'IBMQ' from 'qiskit' (c:\\Users\\jupit\\miniconda3\\envs\\cwq\\Lib\\site-packages\\qiskit\\__init__.py)",
     "output_type": "error",
     "traceback": [
      "\u001b[1;31m---------------------------------------------------------------------------\u001b[0m",
      "\u001b[1;31mImportError\u001b[0m                               Traceback (most recent call last)",
      "Cell \u001b[1;32mIn[6], line 4\u001b[0m\n\u001b[0;32m      2\u001b[0m \u001b[38;5;28;01mimport\u001b[39;00m \u001b[38;5;21;01mmatplotlib\u001b[39;00m\u001b[38;5;21;01m.\u001b[39;00m\u001b[38;5;21;01mpyplot\u001b[39;00m \u001b[38;5;28;01mas\u001b[39;00m \u001b[38;5;21;01mplt\u001b[39;00m\n\u001b[0;32m      3\u001b[0m \u001b[38;5;28;01mfrom\u001b[39;00m \u001b[38;5;21;01mqiskit\u001b[39;00m \u001b[38;5;28;01mimport\u001b[39;00m QuantumCircuit\n\u001b[1;32m----> 4\u001b[0m \u001b[38;5;28;01mfrom\u001b[39;00m \u001b[38;5;21;01mqiskit\u001b[39;00m \u001b[38;5;28;01mimport\u001b[39;00m IBMQ\n\u001b[0;32m      5\u001b[0m \u001b[38;5;28;01mfrom\u001b[39;00m \u001b[38;5;21;01mqiskit\u001b[39;00m \u001b[38;5;28;01mimport\u001b[39;00m execute\n\u001b[0;32m      6\u001b[0m \u001b[38;5;28;01mfrom\u001b[39;00m \u001b[38;5;21;01mqiskit\u001b[39;00m \u001b[38;5;28;01mimport\u001b[39;00m QuantumRegister\n",
      "\u001b[1;31mImportError\u001b[0m: cannot import name 'IBMQ' from 'qiskit' (c:\\Users\\jupit\\miniconda3\\envs\\cwq\\Lib\\site-packages\\qiskit\\__init__.py)"
     ]
    }
   ],
   "source": [
    "import numpy as np\n",
    "import matplotlib.pyplot as plt\n",
    "from qiskit import QuantumCircuit\n",
    "from qiskit import IBMQ\n",
    "from qiskit import execute\n",
    "from qiskit import QuantumRegister\n",
    "from qiskit import transpile\n",
    "\n",
    "from qiskit.utils import QuantumInstance\n",
    "from qiskit.circuit.library import RealAmplitudes, ZZFeatureMap\n",
    "from qiskit.algorithms.optimizers import COBYLA, L_BFGS_B\n",
    "from qiskit.circuit import Parameter, ParameterVector\n",
    "from qiskit_machine_learning.neural_networks import TwoLayerQNN, CircuitQNN\n",
    "from qiskit_machine_learning.algorithms.classifiers import NeuralNetworkClassifier, VQC\n",
    "from qiskit_machine_learning.algorithms.regressors import NeuralNetworkRegressor, VQR\n",
    "\n",
    "from typing import Union\n",
    "\n",
    "from qiskit_machine_learning.exceptions import QiskitMachineLearningError\n",
    "\n",
    "from IPython.display import clear_output\n",
    "from qiskit.tools.jupyter import *\n",
    "from qiskit.visualization import *\n",
    "from qiskit.ml.datasets import ad_hoc_data, sample_ad_hoc_data\n",
    "\n",
    "\n",
    "pi = np.pi\n",
    "\n",
    "seed = 10599\n",
    "#IBMQ.save_account('ff7b0e94064fe786ff6cf353d924e8e9503faef3971c6e5873220862bf14ce1989fbeb163597842d23f5e8a1d27ba7f9fb2f4af341da07da9c5bd109c109e76e')\n",
    "#provider = IBMQ.load_account()"
   ]
  },
  {
   "cell_type": "markdown",
   "id": "0b71b085-0ef8-4f7e-b5be-e6dd20481867",
   "metadata": {},
   "source": [
    "## Dataset\n",
    "\n",
    "Using the method ad_hoc_data to obtain a random dataset of 2 classes with 2 parameters."
   ]
  },
  {
   "cell_type": "code",
   "execution_count": null,
   "id": "93293d25-4fc6-4538-96b1-707d073b630a",
   "metadata": {},
   "outputs": [],
   "source": [
    "len_train = 40\n",
    "len_test = 10\n",
    "feature_dim = 2\n",
    "sample_total, training_input, test_input, class_labels = ad_hoc_data(\n",
    "    training_size=40,\n",
    "    test_size=10,\n",
    "    n=feature_dim,\n",
    "    gap=0.2,\n",
    "    plot_data=True\n",
    ")\n"
   ]
  },
  {
   "cell_type": "markdown",
   "id": "0f06661b-4c69-4923-a082-3204e018cd77",
   "metadata": {},
   "source": [
    "### Trainset\n",
    "\n",
    "We need to design a preprocessing for the  training_input variable to the neccesary train sets: X_train, y_train"
   ]
  },
  {
   "cell_type": "code",
   "execution_count": 4,
   "id": "ca1a1fa1-9fbc-49dc-a9ad-46fc5970ac34",
   "metadata": {},
   "outputs": [],
   "source": [
    "X_train = []\n",
    "y_train = []\n",
    "len_label = len(class_labels) \n",
    "index = 0 \n",
    "for i in class_labels:\n",
    "    y = [0.]*len_label\n",
    "    train_set = training_input[i]\n",
    "    X_train.extend(train_set)\n",
    "    for i in range(len(train_set)):\n",
    "        y[index] = 1.0\n",
    "        y_train.append(y)\n",
    "    index += 1\n",
    "X_train = np.asarray(X_train)\n",
    "y_train = np.asarray(y_train)"
   ]
  },
  {
   "cell_type": "markdown",
   "id": "e9e88990-aa9f-4907-9f7a-97dc3ae0d585",
   "metadata": {},
   "source": [
    "Print the result of the preprocessing"
   ]
  },
  {
   "cell_type": "code",
   "execution_count": null,
   "id": "59d80d76-8a70-4a28-b325-83c49ee64c1d",
   "metadata": {},
   "outputs": [],
   "source": [
    "X_train, y_train"
   ]
  },
  {
   "cell_type": "markdown",
   "id": "729c70b3-8662-4101-bf89-c1dea4072991",
   "metadata": {},
   "source": [
    "### Testset\n",
    "\n",
    "We need to design a preprocessing for the  test_input variable to the neccesary train sets: X_test, y_test"
   ]
  },
  {
   "cell_type": "code",
   "execution_count": 6,
   "id": "18b0ff24-85a8-4d92-bbc3-98748b6cbe1a",
   "metadata": {},
   "outputs": [],
   "source": [
    "X_test= []\n",
    "y_test = []\n",
    "index = 0 \n",
    "for i in class_labels:\n",
    "    y = [0.]*len_label\n",
    "    test_set = test_input[i]\n",
    "    X_test.extend(test_set)\n",
    "    for i in range(len(test_set)):\n",
    "        y[index] = 1.0\n",
    "        y_test.append(y)\n",
    "    index += 1"
   ]
  },
  {
   "cell_type": "code",
   "execution_count": null,
   "id": "1c7b30df-b37f-46a7-ab42-b7696d3f75af",
   "metadata": {},
   "outputs": [],
   "source": [
    "X_test, y_test"
   ]
  },
  {
   "cell_type": "markdown",
   "id": "8e391ef1-77df-4087-b129-a29e01eb00e6",
   "metadata": {},
   "source": [
    "### Design a method to plot the epoch"
   ]
  },
  {
   "cell_type": "code",
   "execution_count": 8,
   "id": "29bff624-dffc-4836-a4d6-13b652615974",
   "metadata": {},
   "outputs": [],
   "source": [
    "# callback function that draws a live plot when the .fit() method is called\n",
    "def callback_graph(weights, obj_func_eval):\n",
    "    clear_output(wait=True)\n",
    "    objective_func_vals.append(obj_func_eval)\n",
    "    plt.title(\"Objective function value against iteration\")\n",
    "    plt.xlabel(\"Iteration\")\n",
    "    plt.ylabel(\"Objective function value\")\n",
    "    plt.plot(range(len(objective_func_vals)), objective_func_vals)\n",
    "    plt.show()"
   ]
  },
  {
   "cell_type": "markdown",
   "id": "945cd318-3938-4c86-8ebf-7aeec182b701",
   "metadata": {},
   "source": [
    "## QML part\n",
    "\n",
    "Design the maping to the variables of each instance of the train dataset and design the ansatz.\n",
    "\n",
    "### Mapping\n",
    "\n",
    "Using the ZZFeatureMap method with the feature dimension with 2"
   ]
  },
  {
   "cell_type": "code",
   "execution_count": null,
   "id": "a5ffb5ad-a27d-4326-95c5-33dfa546446c",
   "metadata": {},
   "outputs": [],
   "source": [
    "feature_map = ZZFeatureMap(feature_dim)\n",
    "feature_map.decompose().draw(\"mpl\")"
   ]
  },
  {
   "cell_type": "markdown",
   "id": "8c8c6945-4d98-4ef0-bc73-a01a952cc690",
   "metadata": {},
   "source": [
    "### Ansatz\n",
    "\n",
    "The variational Quantum circuit, in qiskit exist the possibility to apply pre-defined ansatz like RealAmplitudes"
   ]
  },
  {
   "cell_type": "code",
   "execution_count": null,
   "id": "77852a30-cedc-493b-8dd4-80f56b48746e",
   "metadata": {},
   "outputs": [],
   "source": [
    "ansatz_c = RealAmplitudes(feature_dim, reps=1)\n",
    "ansatz_c.decompose().draw(\"mpl\")"
   ]
  },
  {
   "cell_type": "markdown",
   "id": "15953c87-76d0-4ed8-8cb6-a9b9ad945d27",
   "metadata": {},
   "source": [
    "This example we design own ansatz."
   ]
  },
  {
   "cell_type": "code",
   "execution_count": 11,
   "id": "eef7dc74-ca56-4306-a94d-d8c9e8bdec07",
   "metadata": {},
   "outputs": [],
   "source": [
    "def ansatz(n, num_layers):\n",
    "    #Set the number of layers and qubits\n",
    "    #ParameterVectors are initialized with a string identifier and an integer specifying the vector length    \n",
    "    parameters = ParameterVector('θ', n*(num_layers+1))\n",
    "\n",
    "    circuit = QuantumCircuit(n,name='oracle')\n",
    "    \n",
    "    for i in range(n):\n",
    "        circuit.h(i)\n",
    "    \n",
    "    for layer in range(num_layers):\n",
    "        #Appending the parameterized Ry gates using parameters from the vector constructed above\n",
    "        for i in range(n):\n",
    "            circuit.ry(parameters[n*layer+i], i)\n",
    "\n",
    "        #Appending the entangling CNOT gates\n",
    "        for i in range(n-1):\n",
    "            circuit.cx(i,1)\n",
    "\n",
    "    #Appending one additional layer of parameterized Rz gates\n",
    "        for i in range(n):\n",
    "            circuit.rz(parameters[n*num_layers+i], i)\n",
    "    \n",
    "    for i in range(n):\n",
    "        circuit.h(i)\n",
    "    return circuit"
   ]
  },
  {
   "cell_type": "code",
   "execution_count": 12,
   "id": "1fa36de1-cad7-44a4-b32c-a218f4711b97",
   "metadata": {},
   "outputs": [],
   "source": [
    "num_layers = 2\n",
    "ansatz_circuit = ansatz(feature_dim,num_layers)"
   ]
  },
  {
   "cell_type": "code",
   "execution_count": null,
   "id": "da4ae8df-2e06-499c-9c82-968b17d8ce3a",
   "metadata": {},
   "outputs": [],
   "source": [
    "ansatz_circuit.draw(\"mpl\")"
   ]
  },
  {
   "cell_type": "markdown",
   "id": "8c404628-be1a-4285-8fee-b2d39d5fe40d",
   "metadata": {},
   "source": [
    "## Simulation  part\n",
    "\n",
    "The quantum instance for  simulation a quantum computing"
   ]
  },
  {
   "cell_type": "code",
   "execution_count": 14,
   "id": "b55de307-74bc-481d-937b-e968bc758e13",
   "metadata": {},
   "outputs": [],
   "source": [
    "quantum_instance = QuantumInstance(Aer.get_backend('qasm_simulator'), shots=8192)"
   ]
  },
  {
   "cell_type": "code",
   "execution_count": 15,
   "id": "7743dfb1-8f7f-498e-8ab8-30a99de808b9",
   "metadata": {},
   "outputs": [],
   "source": [
    "\n",
    "# construct variational quantum classifier\n",
    "vqc = VQC(feature_map=feature_map,\n",
    "          ansatz=ansatz_circuit,\n",
    "          loss='cross_entropy',\n",
    "          optimizer=COBYLA(),\n",
    "          quantum_instance=quantum_instance,\n",
    "          callback=callback_graph)\n"
   ]
  },
  {
   "cell_type": "code",
   "execution_count": null,
   "id": "bdf9f2ab-68be-43a2-9afd-edf456294266",
   "metadata": {},
   "outputs": [],
   "source": [
    "# create empty array for callback to store evaluations of the objective function\n",
    "objective_func_vals = []\n",
    "plt.rcParams[\"figure.figsize\"] = (12, 6)\n",
    "\n",
    "# fit classifier to data\n",
    "vqc.fit(X_train, y_train)\n",
    "\n",
    "# return to default figsize\n",
    "plt.rcParams[\"figure.figsize\"] = (6, 4)\n",
    "\n",
    "# score classifier\n",
    "vqc.score(X_train, y_train)"
   ]
  },
  {
   "cell_type": "code",
   "execution_count": null,
   "id": "6cbff371-7677-4567-9291-d04135359fb8",
   "metadata": {},
   "outputs": [],
   "source": [
    "vqc.score(X_test, y_test)"
   ]
  },
  {
   "cell_type": "markdown",
   "id": "caf345fa",
   "metadata": {},
   "source": [
    "# General quantum circuit\n",
    "\n",
    "For those kind of ways to simulate a quantum variational classifier we use the same quantum circuit"
   ]
  },
  {
   "cell_type": "code",
   "execution_count": 18,
   "id": "e004c02d",
   "metadata": {},
   "outputs": [],
   "source": [
    "num_layers = 1\n",
    "params = np.random.random([(1+num_layers)*feature_dim])  "
   ]
  },
  {
   "cell_type": "code",
   "execution_count": 19,
   "id": "7412763a",
   "metadata": {},
   "outputs": [],
   "source": [
    "def ansatz_m(n, num_layers,params):\n",
    "    #Set the number of layers and qubits\n",
    "    #ParameterVectors are initialized with a string identifier and an integer specifying the vector length    \n",
    "    parameters = ParameterVector('θ', n*(num_layers+1))\n",
    "    j = 0\n",
    "    params_dict = {}\n",
    "    circuit = QuantumCircuit(n)\n",
    "    \n",
    "    for i in range(n):\n",
    "        circuit.h(i)\n",
    "    \n",
    "    for layer in range(num_layers):\n",
    "        #Appending the parameterized Ry gates using parameters from the vector constructed above\n",
    "        for i in range(n):\n",
    "            circuit.ry(parameters[n*layer+i], i)\n",
    "\n",
    "        #Appending the entangling CNOT gates\n",
    "        for i in range(n-1):\n",
    "            circuit.cx(i,1)\n",
    "\n",
    "    #Appending one additional layer of parameterized Rz gates\n",
    "        for i in range(n):\n",
    "            circuit.rz(parameters[n*num_layers+i], i)\n",
    "    \n",
    "    for i in range(n):\n",
    "        circuit.h(i)\n",
    "    for p in parameters:\n",
    "        params_dict[p] = params[j] \n",
    "        j += 1\n",
    "    circuit = circuit.assign_parameters(parameters = params_dict)\n",
    "    return circuit"
   ]
  },
  {
   "cell_type": "code",
   "execution_count": null,
   "id": "4701a54c",
   "metadata": {},
   "outputs": [],
   "source": [
    "import operator\n",
    "\n",
    "def sim_variational_classifier(params):\n",
    "    cost = 0\n",
    "    acc = 0\n",
    "    shots= 8192\n",
    "    for i in range(len_train*2):\n",
    "        qc = QuantumCircuit(feature_dim,feature_dim)\n",
    "        qc.append(feature_map,range(feature_dim))\n",
    "        j = 0\n",
    "        inputs_dict = {}\n",
    "        for index in feature_map.parameters:\n",
    "            inputs_dict[index] = X_train[i][j] \n",
    "            j += 1\n",
    "        qc = qc.assign_parameters(inputs_dict)\n",
    "        qc.append(ansatz_m(feature_dim,num_layers,params),range(feature_dim))\n",
    "        qc.measure(range(feature_dim),range(feature_dim))\n",
    "        result = execute(qc, Aer.get_backend('qasm_simulator')).result()                 \n",
    "        counts = result.get_counts(qc)\n",
    "        y_pred = max(counts.items(), key=operator.itemgetter(1))[0]\n",
    "        y_pred = [float(i) for i in y_pred]\n",
    "        if y_pred[0] == y_train[i][0] and y_pred[1] == y_train[i][1]:\n",
    "            acc += 1\n",
    "        else:\n",
    "            cost +=1\n",
    "    return cost/(len_train*2)\n",
    "num_parameters = 4\n",
    "sim_variational_classifier(params)"
   ]
  },
  {
   "cell_type": "code",
   "execution_count": null,
   "id": "2061b802",
   "metadata": {},
   "outputs": [],
   "source": [
    "print(\"cost\")\n",
    "print(sim_variational_classifier(params))\n",
    "\n",
    "for i in range(10):\n",
    "    optimizer = COBYLA(maxiter=20)\n",
    "    ret = optimizer.optimize(num_vars=len(params),objective_function=sim_variational_classifier, initial_point=params)\n",
    "    params = ret[0]\n",
    "    print(ret[1])\n",
    "    "
   ]
  }
 ],
 "metadata": {
  "kernelspec": {
   "display_name": "cwq",
   "language": "python",
   "name": "python3"
  },
  "language_info": {
   "codemirror_mode": {
    "name": "ipython",
    "version": 3
   },
   "file_extension": ".py",
   "mimetype": "text/x-python",
   "name": "python",
   "nbconvert_exporter": "python",
   "pygments_lexer": "ipython3",
   "version": "3.12.7"
  },
  "widgets": {
   "application/vnd.jupyter.widget-state+json": {
    "state": {},
    "version_major": 2,
    "version_minor": 0
   }
  }
 },
 "nbformat": 4,
 "nbformat_minor": 5
}
